{
 "cells": [
  {
   "cell_type": "code",
   "execution_count": 1,
   "metadata": {},
   "outputs": [],
   "source": [
    "import pandas as pd\n",
    "df=pd.read_csv('dazhongdianping.csv', encoding='gb18030')#dazhongdianping.csv#taobao.csv"
   ]
  },
  {
   "cell_type": "code",
   "execution_count": 2,
   "metadata": {},
   "outputs": [],
   "source": [
    "def make_label(df):\n",
    "    df[\"sentiment\"] = df[\"star\"].apply(lambda x: 1 if x>3 else 0)"
   ]
  },
  {
   "cell_type": "code",
   "execution_count": 3,
   "metadata": {},
   "outputs": [],
   "source": [
    "make_label(df)"
   ]
  },
  {
   "cell_type": "code",
   "execution_count": 4,
   "metadata": {},
   "outputs": [],
   "source": [
    "x = df[['comment']]\n",
    "y = df.sentiment"
   ]
  },
  {
   "cell_type": "code",
   "execution_count": 5,
   "metadata": {},
   "outputs": [
    {
     "data": {
      "text/html": [
       "<div>\n",
       "<style scoped>\n",
       "    .dataframe tbody tr th:only-of-type {\n",
       "        vertical-align: middle;\n",
       "    }\n",
       "\n",
       "    .dataframe tbody tr th {\n",
       "        vertical-align: top;\n",
       "    }\n",
       "\n",
       "    .dataframe thead th {\n",
       "        text-align: right;\n",
       "    }\n",
       "</style>\n",
       "<table border=\"1\" class=\"dataframe\">\n",
       "  <thead>\n",
       "    <tr style=\"text-align: right;\">\n",
       "      <th></th>\n",
       "      <th>comment</th>\n",
       "    </tr>\n",
       "  </thead>\n",
       "  <tbody>\n",
       "    <tr>\n",
       "      <th>0</th>\n",
       "      <td>口味：不知道是我口高了，还是这家真不怎么样。 我感觉口味确实很一般很一般。上菜相当快，我敢说...</td>\n",
       "    </tr>\n",
       "    <tr>\n",
       "      <th>1</th>\n",
       "      <td>菜品丰富质量好，服务也不错！很喜欢！</td>\n",
       "    </tr>\n",
       "    <tr>\n",
       "      <th>2</th>\n",
       "      <td>说真的，不晓得有人排队的理由，香精香精香精香精，拜拜！</td>\n",
       "    </tr>\n",
       "    <tr>\n",
       "      <th>3</th>\n",
       "      <td>菜量实惠，上菜还算比较快，疙瘩汤喝出了秋日的暖意，烧茄子吃出了大阪烧的味道，想吃土豆片也是口...</td>\n",
       "    </tr>\n",
       "    <tr>\n",
       "      <th>4</th>\n",
       "      <td>先说我算是娜娜家风荷园开业就一直在这里吃 每次出去回来总想吃一回 有时觉得外面的西式简餐总是...</td>\n",
       "    </tr>\n",
       "    <tr>\n",
       "      <th>5</th>\n",
       "      <td>菜很好吃 环境也不错   值得推荐！！！！！！！！！！！！！！</td>\n",
       "    </tr>\n",
       "    <tr>\n",
       "      <th>6</th>\n",
       "      <td>很喜欢的餐厅，东北风味儿，以后还会再去！</td>\n",
       "    </tr>\n",
       "    <tr>\n",
       "      <th>7</th>\n",
       "      <td>口味属于家常菜一类，价格有点小贵，逛街的时候吃吃还可以。</td>\n",
       "    </tr>\n",
       "    <tr>\n",
       "      <th>8</th>\n",
       "      <td>最近太忙了，估计要暂时告别大众点评一段时间了。这条应该是这个月的最后一条点评了，全五星好评。...</td>\n",
       "    </tr>\n",
       "    <tr>\n",
       "      <th>9</th>\n",
       "      <td>我去了一次感觉喜欢上了这，无论环境还有菜品在自助餐里已经是很不错了</td>\n",
       "    </tr>\n",
       "    <tr>\n",
       "      <th>10</th>\n",
       "      <td>10点半点的餐，12点还没下单，这速度也是醉了。味道还可以，德国香肠没有太好吃，焗土豆和柠檬...</td>\n",
       "    </tr>\n",
       "    <tr>\n",
       "      <th>11</th>\n",
       "      <td>两个人吃没点太多，要了一份手抓饼当主食，没仔细看菜单，以为手抓饼是咸口的了🤣结果太甜了，油还...</td>\n",
       "    </tr>\n",
       "    <tr>\n",
       "      <th>12</th>\n",
       "      <td>很一般   地点好真的很重要    不是很推荐</td>\n",
       "    </tr>\n",
       "    <tr>\n",
       "      <th>13</th>\n",
       "      <td>我们两个人去的，等个100多个号吧，还行因为不着急，就特地为了去拔草，点了一直烤鸭，味道不错...</td>\n",
       "    </tr>\n",
       "    <tr>\n",
       "      <th>14</th>\n",
       "      <td>哎，冲着推荐来的，后悔死了，上菜巨慢不说，服务态度还超级差，东西咸的要死，而且普遍的贵，谁来...</td>\n",
       "    </tr>\n",
       "    <tr>\n",
       "      <th>15</th>\n",
       "      <td>超级差评  上菜慢 服务态度超级差、先把汤上来喝饱了 完事菜就上了一个，找服务员催半天也上不...</td>\n",
       "    </tr>\n",
       "    <tr>\n",
       "      <th>16</th>\n",
       "      <td>很好吃，中餐有西餐味。用餐人很多，我们排队了15分钟呢，爆</td>\n",
       "    </tr>\n",
       "    <tr>\n",
       "      <th>17</th>\n",
       "      <td>平日晚餐去的时间不算晚人也依旧那么火爆 等了一个小时 安排了一张超小的桌子 只适合下午茶用 ...</td>\n",
       "    </tr>\n",
       "    <tr>\n",
       "      <th>18</th>\n",
       "      <td>好吃好吃好吃，就是人不少！烤肉速度人多时候稍有些慢！</td>\n",
       "    </tr>\n",
       "    <tr>\n",
       "      <th>19</th>\n",
       "      <td>总体还不错 要的都是推荐菜 手撕饼有点腻</td>\n",
       "    </tr>\n",
       "    <tr>\n",
       "      <th>20</th>\n",
       "      <td>没有菜单 用微信点菜 还是先付款 什么都没吃着就把钱付了 忙活点餐付款就十几二十分钟 还真得...</td>\n",
       "    </tr>\n",
       "    <tr>\n",
       "      <th>21</th>\n",
       "      <td>上周末去的娜娜家，一直没来得及点评，今天趁着工作不忙赶紧来补一个😝作为一个爱吃甜食的女生，真...</td>\n",
       "    </tr>\n",
       "    <tr>\n",
       "      <th>22</th>\n",
       "      <td>服务员跟**似的，摇摇手，没位置，话都不说一句。</td>\n",
       "    </tr>\n",
       "    <tr>\n",
       "      <th>23</th>\n",
       "      <td>自从这家出了就一直想去，终于赶个闺蜜也有时间的日子早早的去了。不到五点半到那就已经排到10几...</td>\n",
       "    </tr>\n",
       "    <tr>\n",
       "      <th>24</th>\n",
       "      <td>东西什么的都挺好，味道也不错，就是人多点，环境很好</td>\n",
       "    </tr>\n",
       "    <tr>\n",
       "      <th>25</th>\n",
       "      <td>早就耳闻卤肉饭，可是不太喜欢吃，是甜口的，米饭太硬太硬了应该是隔夜的，肉也不是很烂！！烟花意...</td>\n",
       "    </tr>\n",
       "    <tr>\n",
       "      <th>26</th>\n",
       "      <td>由于在公司对面，因此和同事来过几次，菜的味道还可以，今天和家人路过这，带他们进来尝尝，桌子上...</td>\n",
       "    </tr>\n",
       "    <tr>\n",
       "      <th>27</th>\n",
       "      <td>每次去都要排队，人不少，在恒隆可以和外婆家抗衡。价格方面还是可以接受的，餐厅环境也还可以，味...</td>\n",
       "    </tr>\n",
       "    <tr>\n",
       "      <th>28</th>\n",
       "      <td>这次过生日又去的汉巴味德，这回真的让我太失望了，想要说一下，从刚开业6.6的时候就一直吃，怀...</td>\n",
       "    </tr>\n",
       "    <tr>\n",
       "      <th>29</th>\n",
       "      <td>人好多，去的时候排号了不过等的时间不长，蛋挞挺好吃，外皮很酥，北极甜虾也不错，炸鸡腿我觉得刚...</td>\n",
       "    </tr>\n",
       "    <tr>\n",
       "      <th>...</th>\n",
       "      <td>...</td>\n",
       "    </tr>\n",
       "    <tr>\n",
       "      <th>1970</th>\n",
       "      <td>周五晚上六点拿号，前面还有23桌～扫二维码关注排队近况，预计等候时间四十分钟～差不多七点进去...</td>\n",
       "    </tr>\n",
       "    <tr>\n",
       "      <th>1971</th>\n",
       "      <td>味道不错，排队有点长，店员少了点，加点人要</td>\n",
       "    </tr>\n",
       "    <tr>\n",
       "      <th>1972</th>\n",
       "      <td>菜量挺大，味道挺好，环境不错。</td>\n",
       "    </tr>\n",
       "    <tr>\n",
       "      <th>1973</th>\n",
       "      <td>真心不好吃…大拉皮就四五根拉皮，剩下都是黄瓜丝…其他菜味道也就一般般，不要浪费时间排队了，吃别的吧</td>\n",
       "    </tr>\n",
       "    <tr>\n",
       "      <th>1974</th>\n",
       "      <td>服务还是不错的，环境也算可以。就是太！太！太难吃了。我对口味没什么挑剔，几乎是什么都吃，这次...</td>\n",
       "    </tr>\n",
       "    <tr>\n",
       "      <th>1975</th>\n",
       "      <td>从娜娜家在风荷园的第一家店就开始吃了，今天来大悦城娜娜家真心要吐槽一下，和闺蜜坐那聊天的不到...</td>\n",
       "    </tr>\n",
       "    <tr>\n",
       "      <th>1976</th>\n",
       "      <td>真心一般  连卡都不能刷  就为了省几个钱 让顾客从四层下到一层取钱 大冬天的 我也是服了 ...</td>\n",
       "    </tr>\n",
       "    <tr>\n",
       "      <th>1977</th>\n",
       "      <td>挺好吃的，就是两个人去不给大桌，肉甜甜的~</td>\n",
       "    </tr>\n",
       "    <tr>\n",
       "      <th>1978</th>\n",
       "      <td>都油腻腻的，吃不习惯，真心不理想</td>\n",
       "    </tr>\n",
       "    <tr>\n",
       "      <th>1979</th>\n",
       "      <td>蛋糕很贵 每个东西都还OK 就是价格贵了点</td>\n",
       "    </tr>\n",
       "    <tr>\n",
       "      <th>1980</th>\n",
       "      <td>烤肉好吃，锅包肉有点腻，大拉皮每次必点……</td>\n",
       "    </tr>\n",
       "    <tr>\n",
       "      <th>1981</th>\n",
       "      <td>我是个标准吃货，但是北李妈妈的菜居然把我油住了，这是我所始料未及的，一盘下饭菜，居然半盘子油...</td>\n",
       "    </tr>\n",
       "    <tr>\n",
       "      <th>1982</th>\n",
       "      <td>挺好的，人很多，每次去都排队。比平时的烤肉好吃很多，种类繁多，鸡米花蛋挞非常好</td>\n",
       "    </tr>\n",
       "    <tr>\n",
       "      <th>1983</th>\n",
       "      <td>人超级多，东西有点跟不上了，味道还不错</td>\n",
       "    </tr>\n",
       "    <tr>\n",
       "      <th>1984</th>\n",
       "      <td>喜欢这里的菜品，环境也还行。之前去的乐宾那个店，感觉一般，还被桌子划坏了鞋。这次来的大悦城店...</td>\n",
       "    </tr>\n",
       "    <tr>\n",
       "      <th>1985</th>\n",
       "      <td>很久之前在风荷园吃过，觉得很好吃～大悦城开了店就想来拔草，结果很失败。下了班过来7点拿了号，...</td>\n",
       "    </tr>\n",
       "    <tr>\n",
       "      <th>1986</th>\n",
       "      <td>这地方竟然还这么多人来，还有排号的，只能说饭馆位置很重要吧，只要周围人够多就会有够多人。东西...</td>\n",
       "    </tr>\n",
       "    <tr>\n",
       "      <th>1987</th>\n",
       "      <td>面，饭一般，甜品和饮品非常好，菜量大，适合人多去。</td>\n",
       "    </tr>\n",
       "    <tr>\n",
       "      <th>1988</th>\n",
       "      <td>不愧是天天排队的餐厅，口味很好吃。小吊梨汤太浓了，两个人喝有点撑。猪肝很好吃，一点都不腥，很...</td>\n",
       "    </tr>\n",
       "    <tr>\n",
       "      <th>1989</th>\n",
       "      <td>消费额度人均70+，没有点汤，没有点饮料。点的一个小份骨，家常煎茄子，炒酸菜，一份奶香饼，2...</td>\n",
       "    </tr>\n",
       "    <tr>\n",
       "      <th>1990</th>\n",
       "      <td>管理混乱！服务员态度差！坐了很长时间都没有服务员！</td>\n",
       "    </tr>\n",
       "    <tr>\n",
       "      <th>1991</th>\n",
       "      <td>还可以  环境不错 楼梯  还不错 挺好的 很咸</td>\n",
       "    </tr>\n",
       "    <tr>\n",
       "      <th>1992</th>\n",
       "      <td>在自助餐里算是一般的，好在价格便宜，种类多</td>\n",
       "    </tr>\n",
       "    <tr>\n",
       "      <th>1993</th>\n",
       "      <td>70+一人 到了里面发现可吃的其实并不多。。</td>\n",
       "    </tr>\n",
       "    <tr>\n",
       "      <th>1994</th>\n",
       "      <td>超级好吃算不上，但是餐具脏我是忘不了了，太恶心了！</td>\n",
       "    </tr>\n",
       "    <tr>\n",
       "      <th>1995</th>\n",
       "      <td>还不错可以再去，希望过节有惊喜</td>\n",
       "    </tr>\n",
       "    <tr>\n",
       "      <th>1996</th>\n",
       "      <td>菜品口味没变化，上菜速度有点慢，微信点餐很方便</td>\n",
       "    </tr>\n",
       "    <tr>\n",
       "      <th>1997</th>\n",
       "      <td>领班态度极其恶劣，孕妇夏天怕热想换个凉快的电扇底下都不行，死心眼子。我是真服了，而且不会笑，...</td>\n",
       "    </tr>\n",
       "    <tr>\n",
       "      <th>1998</th>\n",
       "      <td>小调梨汤很合适品尝一下！而且服务生服务特别好!菜品新鲜</td>\n",
       "    </tr>\n",
       "    <tr>\n",
       "      <th>1999</th>\n",
       "      <td>很不错，服务好，环境好，东西也好吃。最重要的是很便宜，赞一个！</td>\n",
       "    </tr>\n",
       "  </tbody>\n",
       "</table>\n",
       "<p>2000 rows × 1 columns</p>\n",
       "</div>"
      ],
      "text/plain": [
       "                                                comment\n",
       "0     口味：不知道是我口高了，还是这家真不怎么样。 我感觉口味确实很一般很一般。上菜相当快，我敢说...\n",
       "1                                    菜品丰富质量好，服务也不错！很喜欢！\n",
       "2                           说真的，不晓得有人排队的理由，香精香精香精香精，拜拜！\n",
       "3     菜量实惠，上菜还算比较快，疙瘩汤喝出了秋日的暖意，烧茄子吃出了大阪烧的味道，想吃土豆片也是口...\n",
       "4     先说我算是娜娜家风荷园开业就一直在这里吃 每次出去回来总想吃一回 有时觉得外面的西式简餐总是...\n",
       "5                       菜很好吃 环境也不错   值得推荐！！！！！！！！！！！！！！\n",
       "6                                  很喜欢的餐厅，东北风味儿，以后还会再去！\n",
       "7                          口味属于家常菜一类，价格有点小贵，逛街的时候吃吃还可以。\n",
       "8     最近太忙了，估计要暂时告别大众点评一段时间了。这条应该是这个月的最后一条点评了，全五星好评。...\n",
       "9                     我去了一次感觉喜欢上了这，无论环境还有菜品在自助餐里已经是很不错了\n",
       "10    10点半点的餐，12点还没下单，这速度也是醉了。味道还可以，德国香肠没有太好吃，焗土豆和柠檬...\n",
       "11    两个人吃没点太多，要了一份手抓饼当主食，没仔细看菜单，以为手抓饼是咸口的了🤣结果太甜了，油还...\n",
       "12                              很一般   地点好真的很重要    不是很推荐\n",
       "13    我们两个人去的，等个100多个号吧，还行因为不着急，就特地为了去拔草，点了一直烤鸭，味道不错...\n",
       "14    哎，冲着推荐来的，后悔死了，上菜巨慢不说，服务态度还超级差，东西咸的要死，而且普遍的贵，谁来...\n",
       "15    超级差评  上菜慢 服务态度超级差、先把汤上来喝饱了 完事菜就上了一个，找服务员催半天也上不...\n",
       "16                        很好吃，中餐有西餐味。用餐人很多，我们排队了15分钟呢，爆\n",
       "17    平日晚餐去的时间不算晚人也依旧那么火爆 等了一个小时 安排了一张超小的桌子 只适合下午茶用 ...\n",
       "18                           好吃好吃好吃，就是人不少！烤肉速度人多时候稍有些慢！\n",
       "19                                 总体还不错 要的都是推荐菜 手撕饼有点腻\n",
       "20    没有菜单 用微信点菜 还是先付款 什么都没吃着就把钱付了 忙活点餐付款就十几二十分钟 还真得...\n",
       "21    上周末去的娜娜家，一直没来得及点评，今天趁着工作不忙赶紧来补一个😝作为一个爱吃甜食的女生，真...\n",
       "22                             服务员跟**似的，摇摇手，没位置，话都不说一句。\n",
       "23    自从这家出了就一直想去，终于赶个闺蜜也有时间的日子早早的去了。不到五点半到那就已经排到10几...\n",
       "24                            东西什么的都挺好，味道也不错，就是人多点，环境很好\n",
       "25    早就耳闻卤肉饭，可是不太喜欢吃，是甜口的，米饭太硬太硬了应该是隔夜的，肉也不是很烂！！烟花意...\n",
       "26    由于在公司对面，因此和同事来过几次，菜的味道还可以，今天和家人路过这，带他们进来尝尝，桌子上...\n",
       "27    每次去都要排队，人不少，在恒隆可以和外婆家抗衡。价格方面还是可以接受的，餐厅环境也还可以，味...\n",
       "28    这次过生日又去的汉巴味德，这回真的让我太失望了，想要说一下，从刚开业6.6的时候就一直吃，怀...\n",
       "29    人好多，去的时候排号了不过等的时间不长，蛋挞挺好吃，外皮很酥，北极甜虾也不错，炸鸡腿我觉得刚...\n",
       "...                                                 ...\n",
       "1970  周五晚上六点拿号，前面还有23桌～扫二维码关注排队近况，预计等候时间四十分钟～差不多七点进去...\n",
       "1971                              味道不错，排队有点长，店员少了点，加点人要\n",
       "1972                                    菜量挺大，味道挺好，环境不错。\n",
       "1973  真心不好吃…大拉皮就四五根拉皮，剩下都是黄瓜丝…其他菜味道也就一般般，不要浪费时间排队了，吃别的吧\n",
       "1974  服务还是不错的，环境也算可以。就是太！太！太难吃了。我对口味没什么挑剔，几乎是什么都吃，这次...\n",
       "1975  从娜娜家在风荷园的第一家店就开始吃了，今天来大悦城娜娜家真心要吐槽一下，和闺蜜坐那聊天的不到...\n",
       "1976  真心一般  连卡都不能刷  就为了省几个钱 让顾客从四层下到一层取钱 大冬天的 我也是服了 ...\n",
       "1977                              挺好吃的，就是两个人去不给大桌，肉甜甜的~\n",
       "1978                                   都油腻腻的，吃不习惯，真心不理想\n",
       "1979                              蛋糕很贵 每个东西都还OK 就是价格贵了点\n",
       "1980                              烤肉好吃，锅包肉有点腻，大拉皮每次必点……\n",
       "1981  我是个标准吃货，但是北李妈妈的菜居然把我油住了，这是我所始料未及的，一盘下饭菜，居然半盘子油...\n",
       "1982            挺好的，人很多，每次去都排队。比平时的烤肉好吃很多，种类繁多，鸡米花蛋挞非常好\n",
       "1983                                人超级多，东西有点跟不上了，味道还不错\n",
       "1984  喜欢这里的菜品，环境也还行。之前去的乐宾那个店，感觉一般，还被桌子划坏了鞋。这次来的大悦城店...\n",
       "1985  很久之前在风荷园吃过，觉得很好吃～大悦城开了店就想来拔草，结果很失败。下了班过来7点拿了号，...\n",
       "1986  这地方竟然还这么多人来，还有排号的，只能说饭馆位置很重要吧，只要周围人够多就会有够多人。东西...\n",
       "1987                          面，饭一般，甜品和饮品非常好，菜量大，适合人多去。\n",
       "1988  不愧是天天排队的餐厅，口味很好吃。小吊梨汤太浓了，两个人喝有点撑。猪肝很好吃，一点都不腥，很...\n",
       "1989  消费额度人均70+，没有点汤，没有点饮料。点的一个小份骨，家常煎茄子，炒酸菜，一份奶香饼，2...\n",
       "1990                          管理混乱！服务员态度差！坐了很长时间都没有服务员！\n",
       "1991                           还可以  环境不错 楼梯  还不错 挺好的 很咸\n",
       "1992                              在自助餐里算是一般的，好在价格便宜，种类多\n",
       "1993                             70+一人 到了里面发现可吃的其实并不多。。\n",
       "1994                          超级好吃算不上，但是餐具脏我是忘不了了，太恶心了！\n",
       "1995                                    还不错可以再去，希望过节有惊喜\n",
       "1996                            菜品口味没变化，上菜速度有点慢，微信点餐很方便\n",
       "1997  领班态度极其恶劣，孕妇夏天怕热想换个凉快的电扇底下都不行，死心眼子。我是真服了，而且不会笑，...\n",
       "1998                        小调梨汤很合适品尝一下！而且服务生服务特别好!菜品新鲜\n",
       "1999                    很不错，服务好，环境好，东西也好吃。最重要的是很便宜，赞一个！\n",
       "\n",
       "[2000 rows x 1 columns]"
      ]
     },
     "execution_count": 5,
     "metadata": {},
     "output_type": "execute_result"
    }
   ],
   "source": [
    "x"
   ]
  },
  {
   "cell_type": "code",
   "execution_count": 6,
   "metadata": {},
   "outputs": [],
   "source": [
    "import jieba\n",
    "def word_cut(text):\n",
    "    return \" \".join(jieba.cut(text))"
   ]
  },
  {
   "cell_type": "code",
   "execution_count": 7,
   "metadata": {},
   "outputs": [
    {
     "name": "stderr",
     "output_type": "stream",
     "text": [
      "Building prefix dict from the default dictionary ...\n",
      "Loading model from cache C:\\Users\\LIUDAS~1\\AppData\\Local\\Temp\\jieba.cache\n",
      "Loading model cost 1.128 seconds.\n",
      "Prefix dict has been built succesfully.\n",
      "C:\\Users\\liudashuai121\\Anaconda3\\lib\\site-packages\\ipykernel_launcher.py:1: SettingWithCopyWarning: \n",
      "A value is trying to be set on a copy of a slice from a DataFrame.\n",
      "Try using .loc[row_indexer,col_indexer] = value instead\n",
      "\n",
      "See the caveats in the documentation: http://pandas.pydata.org/pandas-docs/stable/indexing.html#indexing-view-versus-copy\n",
      "  \"\"\"Entry point for launching an IPython kernel.\n"
     ]
    }
   ],
   "source": [
    "x['cutted_comment'] = x.comment.apply(word_cut)"
   ]
  },
  {
   "cell_type": "code",
   "execution_count": 8,
   "metadata": {},
   "outputs": [],
   "source": [
    "#  采用普通统计CountVectorizer提取特征向量\n",
    "from sklearn.feature_extraction.text import CountVectorizer\n",
    "vec = CountVectorizer( max_df = 0.8,\n",
    "                       min_df = 3,\n",
    "                       token_pattern=u'[\\u4e00-\\u9fa5]+',#u'(?u)\\\\b[^\\\\d\\\\W]\\\\w+\\\\b',#u'(?u)\\b\\w+\\b\n",
    "                       #stop_words=frozenset(stopwords),\n",
    "                       ngram_range=(1,1))"
   ]
  },
  {
   "cell_type": "code",
   "execution_count": 9,
   "metadata": {},
   "outputs": [],
   "source": [
    "#加载朴素贝叶斯分类器\n",
    "from sklearn.naive_bayes import MultinomialNB\n",
    "nb1 = MultinomialNB(alpha=1.0, fit_prior=True, class_prior=None)\n",
    "nb2 = MultinomialNB(alpha=1.0, fit_prior=True, class_prior=None)"
   ]
  },
  {
   "cell_type": "code",
   "execution_count": 10,
   "metadata": {},
   "outputs": [],
   "source": [
    "from sklearn.pipeline import make_pipeline"
   ]
  },
  {
   "cell_type": "code",
   "execution_count": 11,
   "metadata": {},
   "outputs": [],
   "source": [
    "pipe1 = make_pipeline(vec, nb1)\n",
    "pipe2 = make_pipeline(vec, nb2)"
   ]
  },
  {
   "cell_type": "code",
   "execution_count": 12,
   "metadata": {},
   "outputs": [],
   "source": [
    "from sklearn.model_selection import cross_val_score #加载交叉验证工具"
   ]
  },
  {
   "cell_type": "code",
   "execution_count": 13,
   "metadata": {},
   "outputs": [],
   "source": [
    "import matplotlib.pyplot as plt#加载可视化绘图工具"
   ]
  },
  {
   "cell_type": "code",
   "execution_count": 14,
   "metadata": {},
   "outputs": [],
   "source": [
    "k_range = range(1,21)\n",
    "cv_scores = [] #用来放每个模型的结果值"
   ]
  },
  {
   "cell_type": "code",
   "execution_count": 15,
   "metadata": {},
   "outputs": [],
   "source": [
    "from sklearn.model_selection import train_test_split\n",
    "for n in k_range:\n",
    "    x_train, x_test, y_train, y_test = train_test_split(x, y, random_state=n, shuffle=True)\n",
    "    scores = cross_val_score(pipe1, x_train.cutted_comment, y_train, cv=5, scoring='accuracy')  #cv：选择每次测试折数  accuracy：评价指标是准确度,可以省略使用默认值\n",
    "    cv_scores.append(scores.mean())"
   ]
  },
  {
   "cell_type": "code",
   "execution_count": 16,
   "metadata": {},
   "outputs": [
    {
     "data": {
      "image/png": "[encoded data removed]",
      "text/plain": [
       "<Figure size 432x288 with 1 Axes>"
      ]
     },
     "metadata": {
      "needs_background": "light"
     },
     "output_type": "display_data"
    }
   ],
   "source": [
    "k = range(1,21)\n",
    "plt.plot(k,cv_scores)\n",
    "plt.xlabel('K')\n",
    "plt.ylabel('Accuracy')#通过图像选择最好的参数\n",
    "plt.show()"
   ]
  },
  {
   "cell_type": "code",
   "execution_count": 17,
   "metadata": {},
   "outputs": [],
   "source": [
    "#选择最优的模型参数\n",
    "x_train, x_test, y_train, y_test = train_test_split(x, y, random_state=13, shuffle=True)\n",
    "cv_best = cross_val_score(pipe1, x_train.cutted_comment, y_train, cv=5, scoring='accuracy')\n",
    "pipe2.fit(x_train.cutted_comment, y_train)#训练\n",
    "x_test = vec.transform(x_test.cutted_comment)#测试集向量化\n",
    "nb_predict = nb2.predict(x_test)#保存预测结果"
   ]
  },
  {
   "cell_type": "code",
   "execution_count": 18,
   "metadata": {},
   "outputs": [],
   "source": [
    "scores_best = []\n",
    "scores_best.append(cv_best.mean())"
   ]
  },
  {
   "cell_type": "code",
   "execution_count": 19,
   "metadata": {},
   "outputs": [
    {
     "name": "stdout",
     "output_type": "stream",
     "text": [
      "CountVectorizer提取的特征学习模型准确率： [0.8506503775967881]\n"
     ]
    }
   ],
   "source": [
    "print(\"CountVectorizer提取的特征学习模型准确率：\", scores_best)"
   ]
  },
  {
   "cell_type": "code",
   "execution_count": 20,
   "metadata": {},
   "outputs": [
    {
     "name": "stdout",
     "output_type": "stream",
     "text": [
      "使用测试集测试使用CountVectorizer向量化模型准确率： 0.868\n"
     ]
    }
   ],
   "source": [
    "print(\"使用测试集测试使用CountVectorizer向量化模型准确率：\", nb2.score(x_test, y_test))"
   ]
  },
  {
   "cell_type": "code",
   "execution_count": 21,
   "metadata": {},
   "outputs": [
    {
     "data": {
      "text/plain": [
       "array([[200,  36],\n",
       "       [ 30, 234]], dtype=int64)"
      ]
     },
     "execution_count": 21,
     "metadata": {},
     "output_type": "execute_result"
    }
   ],
   "source": [
    "from sklearn import metrics#加载混淆矩阵工具\n",
    "metrics.confusion_matrix(y_test, nb_predict)"
   ]
  },
  {
   "cell_type": "code",
   "execution_count": 22,
   "metadata": {},
   "outputs": [
    {
     "name": "stdout",
     "output_type": "stream",
     "text": [
      "详细的评估指标  精确率      召回率  调和均值   样本量 \n",
      "               precision    recall  f1-score   support\n",
      "\n",
      "           0       0.85      0.87      0.86       230\n",
      "           1       0.89      0.87      0.88       270\n",
      "\n",
      "   micro avg       0.87      0.87      0.87       500\n",
      "   macro avg       0.87      0.87      0.87       500\n",
      "weighted avg       0.87      0.87      0.87       500\n",
      "\n"
     ]
    }
   ],
   "source": [
    "from sklearn.metrics import classification_report #载入模型评估工具\n",
    "print(\"详细的评估指标  精确率      召回率  调和均值   样本量 \\n\", classification_report(nb_predict, y_test))"
   ]
  }
 ],
 "metadata": {
  "kernelspec": {
   "display_name": "Python 3",
   "language": "python",
   "name": "python3"
  },
  "language_info": {
   "codemirror_mode": {
    "name": "ipython",
    "version": 3
   },
   "file_extension": ".py",
   "mimetype": "text/x-python",
   "name": "python",
   "nbconvert_exporter": "python",
   "pygments_lexer": "ipython3",
   "version": "3.7.1"
  }
 },
 "nbformat": 4,
 "nbformat_minor": 2
}
