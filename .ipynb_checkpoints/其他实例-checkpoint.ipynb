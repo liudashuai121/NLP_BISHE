{
 "cells": [
  {
   "cell_type": "code",
   "execution_count": 1,
   "metadata": {},
   "outputs": [],
   "source": [
    "import pandas as pd\n",
    "df=pd.read_csv('taobao.csv', encoding='gb18030')"
   ]
  },
  {
   "cell_type": "code",
   "execution_count": 2,
   "metadata": {},
   "outputs": [],
   "source": [
    "x = df[['comment']]\n",
    "y = df.sentiment"
   ]
  },
  {
   "cell_type": "code",
   "execution_count": 3,
   "metadata": {},
   "outputs": [],
   "source": [
    "import jieba\n",
    "def word_cut(text):\n",
    "    return \" \".join(jieba.cut(text))"
   ]
  },
  {
   "cell_type": "code",
   "execution_count": 4,
   "metadata": {},
   "outputs": [
    {
     "name": "stderr",
     "output_type": "stream",
     "text": [
      "Building prefix dict from the default dictionary ...\n",
      "Loading model from cache C:\\Users\\LIUDAS~1\\AppData\\Local\\Temp\\jieba.cache\n",
      "Loading model cost 1.145 seconds.\n",
      "Prefix dict has been built succesfully.\n"
     ]
    }
   ],
   "source": [
    "x['cutted_comment'] = x.comment.apply(word_cut)"
   ]
  },
  {
   "cell_type": "code",
   "execution_count": 5,
   "metadata": {},
   "outputs": [],
   "source": [
    "#  采用普通统计CountVectorizer提取特征向量\n",
    "from sklearn.feature_extraction.text import CountVectorizer\n",
    "vec = CountVectorizer( max_df = 0.8,\n",
    "                       min_df = 3,\n",
    "                       token_pattern=u'[\\u4e00-\\u9fa5]+',#u'(?u)\\\\b[^\\\\d\\\\W]\\\\w+\\\\b',#u'(?u)\\b\\w+\\b\n",
    "                       #stop_words=frozenset(stopwords),\n",
    "                       ngram_range=(1,1))"
   ]
  },
  {
   "cell_type": "code",
   "execution_count": 6,
   "metadata": {},
   "outputs": [],
   "source": [
    "#加载朴素贝叶斯分类器\n",
    "from sklearn.naive_bayes import MultinomialNB\n",
    "nb1 = MultinomialNB(alpha=1.0, fit_prior=True, class_prior=None)"
   ]
  },
  {
   "cell_type": "code",
   "execution_count": 7,
   "metadata": {},
   "outputs": [],
   "source": [
    "from sklearn.pipeline import make_pipeline"
   ]
  },
  {
   "cell_type": "code",
   "execution_count": 8,
   "metadata": {},
   "outputs": [],
   "source": [
    "pipe1 = make_pipeline(vec, nb1)\n",
    "pipe2 = make_pipeline(vec, nb1)"
   ]
  },
  {
   "cell_type": "code",
   "execution_count": 9,
   "metadata": {},
   "outputs": [],
   "source": [
    "from sklearn.model_selection import cross_val_score #加载交叉验证工具"
   ]
  },
  {
   "cell_type": "code",
   "execution_count": 10,
   "metadata": {},
   "outputs": [],
   "source": [
    "import matplotlib.pyplot as plt#加载可视化绘图工具"
   ]
  },
  {
   "cell_type": "code",
   "execution_count": 14,
   "metadata": {},
   "outputs": [],
   "source": [
    "k_range = range(1,21)\n",
    "cv_scores = [] #用来放每个模型的结果值"
   ]
  },
  {
   "cell_type": "code",
   "execution_count": 15,
   "metadata": {},
   "outputs": [],
   "source": [
    "from sklearn.model_selection import train_test_split\n",
    "for n in k_range:\n",
    "    x_train, x_test, y_train, y_test = train_test_split(x, y, random_state=n, shuffle=True)\n",
    "    scores = cross_val_score(pipe1, x_train.cutted_comment, y_train, cv=5, scoring='accuracy')  #cv：选择每次测试折数  accuracy：评价指标是准确度,可以省略使用默认值\n",
    "    cv_scores.append(scores.mean())"
   ]
  },
  {
   "cell_type": "code",
   "execution_count": 16,
   "metadata": {},
   "outputs": [
    {
     "data": {
      "image/png": "[encoded data removed]",
      "text/plain": [
       "<Figure size 432x288 with 1 Axes>"
      ]
     },
     "metadata": {
      "needs_background": "light"
     },
     "output_type": "display_data"
    }
   ],
   "source": [
    "k = range(1,21)\n",
    "plt.plot(k,cv_scores)\n",
    "plt.xlabel('K')\n",
    "plt.ylabel('Accuracy')#通过图像选择最好的参数\n",
    "plt.show()"
   ]
  },
  {
   "cell_type": "code",
   "execution_count": 18,
   "metadata": {},
   "outputs": [],
   "source": [
    "#选择最优的模型参数\n",
    "x_train, x_test, y_train, y_test = train_test_split(x, y, random_state=13, shuffle=True)\n",
    "cv_best = cross_val_score(pipe1, x_train.cutted_comment, y_train, cv=5, scoring='accuracy')\n",
    "pipe2.fit(x_train.cutted_comment, y_train)#训练\n",
    "x_test = vec.transform(x_test.cutted_comment)#测试集向量化\n",
    "nb1_predict = nb1.predict(x_test)#保存预测结果"
   ]
  },
  {
   "cell_type": "code",
   "execution_count": 19,
   "metadata": {},
   "outputs": [],
   "source": [
    "scores_best = []\n",
    "scores_best.append(cv_best.mean())"
   ]
  },
  {
   "cell_type": "code",
   "execution_count": 20,
   "metadata": {},
   "outputs": [
    {
     "name": "stdout",
     "output_type": "stream",
     "text": [
      "CountVectorizer提取的特征学习模型准确率： [0.9135093445408209]\n"
     ]
    }
   ],
   "source": [
    "print(\"CountVectorizer提取的特征学习模型准确率：\", scores_best)"
   ]
  },
  {
   "cell_type": "code",
   "execution_count": 21,
   "metadata": {},
   "outputs": [
    {
     "name": "stdout",
     "output_type": "stream",
     "text": [
      "使用测试集测试使用CountVectorizer向量化模型准确率： 0.876770538243626\n"
     ]
    }
   ],
   "source": [
    "print(\"使用测试集测试使用CountVectorizer向量化模型准确率：\", nb1.score(x_test, y_test))"
   ]
  },
  {
   "cell_type": "code",
   "execution_count": 22,
   "metadata": {},
   "outputs": [
    {
     "data": {
      "text/plain": [
       "array([[339,  32],\n",
       "       [ 55, 280]], dtype=int64)"
      ]
     },
     "execution_count": 22,
     "metadata": {},
     "output_type": "execute_result"
    }
   ],
   "source": [
    "from sklearn import metrics#加载混淆矩阵工具\n",
    "metrics.confusion_matrix(y_test, nb1_predict)"
   ]
  },
  {
   "cell_type": "code",
   "execution_count": 23,
   "metadata": {},
   "outputs": [
    {
     "name": "stdout",
     "output_type": "stream",
     "text": [
      "详细的评估指标  精确率      召回率  调和均值   样本量 \n",
      "               precision    recall  f1-score   support\n",
      "\n",
      "           0       0.91      0.86      0.89       394\n",
      "           1       0.84      0.90      0.87       312\n",
      "\n",
      "   micro avg       0.88      0.88      0.88       706\n",
      "   macro avg       0.87      0.88      0.88       706\n",
      "weighted avg       0.88      0.88      0.88       706\n",
      "\n"
     ]
    }
   ],
   "source": [
    "from sklearn.metrics import classification_report #载入模型评估工具\n",
    "print(\"详细的评估指标  精确率      召回率  调和均值   样本量 \\n\", classification_report(nb1_predict, y_test))"
   ]
  }
 ],
 "metadata": {
  "kernelspec": {
   "display_name": "Python 3",
   "language": "python",
   "name": "python3"
  },
  "language_info": {
   "codemirror_mode": {
    "name": "ipython",
    "version": 3
   },
   "file_extension": ".py",
   "mimetype": "text/x-python",
   "name": "python",
   "nbconvert_exporter": "python",
   "pygments_lexer": "ipython3",
   "version": "3.7.1"
  }
 },
 "nbformat": 4,
 "nbformat_minor": 2
}
