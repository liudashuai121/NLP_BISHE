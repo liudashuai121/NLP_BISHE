{
 "cells": [
  {
   "cell_type": "code",
   "execution_count": 1,
   "metadata": {},
   "outputs": [],
   "source": [
    "import pandas as pd"
   ]
  },
  {
   "cell_type": "code",
   "execution_count": 2,
   "metadata": {},
   "outputs": [],
   "source": [
    "df=pd.read_csv('D:\\weibo_date\\date_6w.csv', encoding='gb18030')"
   ]
  },
  {
   "cell_type": "code",
   "execution_count": 3,
   "metadata": {},
   "outputs": [],
   "source": [
    "x = df[['comment']]\n",
    "y = df.sentiment"
   ]
  },
  {
   "cell_type": "code",
   "execution_count": 4,
   "metadata": {},
   "outputs": [],
   "source": [
    "import jieba\n",
    "def word_cut(text):\n",
    "    return \" \".join(jieba.cut(text))"
   ]
  },
  {
   "cell_type": "code",
   "execution_count": 5,
   "metadata": {},
   "outputs": [
    {
     "name": "stderr",
     "output_type": "stream",
     "text": [
      "Building prefix dict from the default dictionary ...\n",
      "Loading model from cache C:\\Users\\LIUDAS~1\\AppData\\Local\\Temp\\jieba.cache\n",
      "Loading model cost 1.051 seconds.\n",
      "Prefix dict has been built succesfully.\n"
     ]
    }
   ],
   "source": [
    "x['cutted_comment'] = x.comment.apply(word_cut)"
   ]
  },
  {
   "cell_type": "code",
   "execution_count": 6,
   "metadata": {},
   "outputs": [],
   "source": [
    "#加载停用词表\n",
    "def get_custom_stopwords(stop_words_file):\n",
    "    with open(stop_words_file) as f:\n",
    "        stopwords = f.read()\n",
    "    stopwords_list = stopwords.split('\\n')\n",
    "    custom_stopwords_list = [i for i in stopwords_list]\n",
    "    return custom_stopwords_list"
   ]
  },
  {
   "cell_type": "code",
   "execution_count": 7,
   "metadata": {},
   "outputs": [],
   "source": [
    "stop_words_file = \"stopwordsHIT.txt\"\n",
    "stopwords = get_custom_stopwords(stop_words_file)"
   ]
  },
  {
   "cell_type": "code",
   "execution_count": 8,
   "metadata": {},
   "outputs": [],
   "source": [
    "#  采用普通统计CountVectorizer提取特征向量\n",
    "from sklearn.feature_extraction.text import CountVectorizer\n",
    "vec = CountVectorizer( max_df = 0.8,\n",
    "                       min_df = 3,\n",
    "                       token_pattern=u'[\\u4e00-\\u9fa5]+',#u'(?u)\\\\b[^\\\\d\\\\W]\\\\w+\\\\b',#u'(?u)\\b\\w+\\b\n",
    "                       #stop_words=frozenset(stopwords),\n",
    "                       ngram_range=(1,1))"
   ]
  },
  {
   "cell_type": "code",
   "execution_count": 9,
   "metadata": {},
   "outputs": [],
   "source": [
    "#加载朴素贝叶斯分类器\n",
    "from sklearn.naive_bayes import MultinomialNB\n",
    "nb1 = MultinomialNB(alpha=1.0, fit_prior=True, class_prior=None)\n",
    "nb2 = MultinomialNB(alpha=1.0, fit_prior=True, class_prior=None)"
   ]
  },
  {
   "cell_type": "code",
   "execution_count": 10,
   "metadata": {},
   "outputs": [],
   "source": [
    "from sklearn.pipeline import make_pipeline"
   ]
  },
  {
   "cell_type": "code",
   "execution_count": 11,
   "metadata": {},
   "outputs": [],
   "source": [
    "pipe1 = make_pipeline(vec, nb1)\n",
    "pipe2 = make_pipeline(vec, nb2)"
   ]
  },
  {
   "cell_type": "code",
   "execution_count": 12,
   "metadata": {},
   "outputs": [],
   "source": [
    "from sklearn.model_selection import cross_val_score #加载交叉验证工具"
   ]
  },
  {
   "cell_type": "code",
   "execution_count": 13,
   "metadata": {},
   "outputs": [],
   "source": [
    "import matplotlib.pyplot as plt#加载可视化绘图工具"
   ]
  },
  {
   "cell_type": "code",
   "execution_count": 14,
   "metadata": {},
   "outputs": [],
   "source": [
    "k_range = range(1,11)\n",
    "cv_scores = [] #用来放每个模型的结果值"
   ]
  },
  {
   "cell_type": "code",
   "execution_count": 15,
   "metadata": {},
   "outputs": [],
   "source": [
    "from sklearn.model_selection import train_test_split\n",
    "for n in k_range:\n",
    "    x_train, x_test, y_train, y_test = train_test_split(x, y, random_state=n, shuffle=True)\n",
    "    scores = cross_val_score(pipe1, x_train.cutted_comment, y_train, cv=5, scoring='accuracy')  #cv：选择每次测试折数  accuracy：评价指标是准确度,可以省略使用默认值\n",
    "    cv_scores.append(scores.mean())"
   ]
  },
  {
   "cell_type": "code",
   "execution_count": 16,
   "metadata": {},
   "outputs": [
    {
     "data": {
      "image/png": "[encoded data removed]",
      "text/plain": [
       "<Figure size 432x288 with 1 Axes>"
      ]
     },
     "metadata": {
      "needs_background": "light"
     },
     "output_type": "display_data"
    }
   ],
   "source": [
    "k = range(1,11)\n",
    "plt.plot(k,cv_scores)\n",
    "plt.xlabel('K')\n",
    "plt.ylabel('Accuracy')#通过图像选择最好的参数\n",
    "plt.show()"
   ]
  },
  {
   "cell_type": "code",
   "execution_count": 17,
   "metadata": {},
   "outputs": [
    {
     "data": {
      "text/plain": [
       "[0.9026223896329238,\n",
       " 0.9026001274288081,\n",
       " 0.902955544729218,\n",
       " 0.9006666785248287,\n",
       " 0.9014886291459503,\n",
       " 0.9017112093887528,\n",
       " 0.9013777777777777,\n",
       " 0.9016000089058986,\n",
       " 0.9032220489069939,\n",
       " 0.9033111111111112]"
      ]
     },
     "execution_count": 17,
     "metadata": {},
     "output_type": "execute_result"
    }
   ],
   "source": [
    "cv_scores"
   ]
  },
  {
   "cell_type": "code",
   "execution_count": 18,
   "metadata": {},
   "outputs": [],
   "source": [
    "#选择最优的模型参数\n",
    "x_train, x_test, y_train, y_test = train_test_split(x, y, random_state=1, shuffle=True)\n",
    "cv_best = cross_val_score(pipe1, x_train.cutted_comment, y_train, cv=5, scoring='accuracy')\n",
    "pipe2.fit(x_train.cutted_comment, y_train)#训练\n",
    "x_test = vec.transform(x_test.cutted_comment)#测试集向量化\n",
    "nb2_predict = nb2.predict(x_test)#保存预测结果"
   ]
  },
  {
   "cell_type": "code",
   "execution_count": 19,
   "metadata": {},
   "outputs": [
    {
     "data": {
      "text/plain": [
       "array([0.89690034, 0.90444444, 0.90322222, 0.90411111, 0.90443383])"
      ]
     },
     "execution_count": 19,
     "metadata": {},
     "output_type": "execute_result"
    }
   ],
   "source": [
    "cv_best"
   ]
  },
  {
   "cell_type": "code",
   "execution_count": 20,
   "metadata": {},
   "outputs": [],
   "source": [
    "scores_best = []\n",
    "scores_best.append(cv_best.mean())"
   ]
  },
  {
   "cell_type": "code",
   "execution_count": 21,
   "metadata": {},
   "outputs": [
    {
     "name": "stdout",
     "output_type": "stream",
     "text": [
      "CountVectorizer提取的特征学习模型准确率： [0.9026223896329238]\n"
     ]
    }
   ],
   "source": [
    "print(\"CountVectorizer提取的特征学习模型准确率：\", scores_best)"
   ]
  },
  {
   "cell_type": "code",
   "execution_count": 22,
   "metadata": {},
   "outputs": [
    {
     "name": "stdout",
     "output_type": "stream",
     "text": [
      "使用测试集测试使用CountVectorizer向量化模型准确率： 0.9029333333333334\n"
     ]
    }
   ],
   "source": [
    "print(\"使用测试集测试使用CountVectorizer向量化模型准确率：\", nb2.score(x_test, y_test))"
   ]
  },
  {
   "cell_type": "code",
   "execution_count": 23,
   "metadata": {},
   "outputs": [
    {
     "data": {
      "text/plain": [
       "array([[6899,  552],\n",
       "       [ 904, 6645]], dtype=int64)"
      ]
     },
     "execution_count": 23,
     "metadata": {},
     "output_type": "execute_result"
    }
   ],
   "source": [
    "from sklearn import metrics#加载混淆矩阵工具\n",
    "metrics.confusion_matrix(y_test, nb1_predict)"
   ]
  },
  {
   "cell_type": "code",
   "execution_count": 24,
   "metadata": {},
   "outputs": [
    {
     "name": "stdout",
     "output_type": "stream",
     "text": [
      "详细的评估指标  精确率      召回率  调和均值   样本量 \n",
      "               precision    recall  f1-score   support\n",
      "\n",
      "           0       0.93      0.88      0.90      7803\n",
      "           1       0.88      0.92      0.90      7197\n",
      "\n",
      "   micro avg       0.90      0.90      0.90     15000\n",
      "   macro avg       0.90      0.90      0.90     15000\n",
      "weighted avg       0.90      0.90      0.90     15000\n",
      "\n"
     ]
    }
   ],
   "source": [
    "from sklearn.metrics import classification_report #载入模型评估工具\n",
    "print(\"详细的评估指标  精确率      召回率  调和均值   样本量 \\n\", classification_report(nb1_predict, y_test))"
   ]
  },
  {
   "cell_type": "code",
   "execution_count": 25,
   "metadata": {},
   "outputs": [],
   "source": [
    "#载入事件语料\n",
    "pinglun = pd.read_csv('weibo_deyunse.csv', encoding='gb18030')\n",
    "a = pinglun [['comment']]\n",
    "a['cutted_comment'] = a.comment.apply(word_cut)\n",
    "a_cout=vec.transform(a.cutted_comment)\n",
    "#a.cutted_comment[:5]#评论预览\n",
    "a_predict = nb1.predict(a_cout)  # 预测"
   ]
  },
  {
   "cell_type": "code",
   "execution_count": 26,
   "metadata": {},
   "outputs": [
    {
     "data": {
      "text/plain": [
       "array([1, 0, 0, ..., 0, 1, 0], dtype=int64)"
      ]
     },
     "execution_count": 26,
     "metadata": {},
     "output_type": "execute_result"
    }
   ],
   "source": [
    "a_predict"
   ]
  },
  {
   "cell_type": "code",
   "execution_count": 27,
   "metadata": {},
   "outputs": [
    {
     "data": {
      "text/plain": [
       "3857"
      ]
     },
     "execution_count": 27,
     "metadata": {},
     "output_type": "execute_result"
    }
   ],
   "source": [
    "pos = str(a_predict.tolist()).count(\"1\")\n",
    "pos"
   ]
  },
  {
   "cell_type": "code",
   "execution_count": 28,
   "metadata": {},
   "outputs": [
    {
     "data": {
      "text/plain": [
       "3112"
      ]
     },
     "execution_count": 28,
     "metadata": {},
     "output_type": "execute_result"
    }
   ],
   "source": [
    "neg = str(a_predict.tolist()).count(\"0\")\n",
    "neg"
   ]
  },
  {
   "cell_type": "code",
   "execution_count": 29,
   "metadata": {},
   "outputs": [
    {
     "data": {
      "text/html": [
       "<div>\n",
       "<style scoped>\n",
       "    .dataframe tbody tr th:only-of-type {\n",
       "        vertical-align: middle;\n",
       "    }\n",
       "\n",
       "    .dataframe tbody tr th {\n",
       "        vertical-align: top;\n",
       "    }\n",
       "\n",
       "    .dataframe thead th {\n",
       "        text-align: right;\n",
       "    }\n",
       "</style>\n",
       "<table border=\"1\" class=\"dataframe\">\n",
       "  <thead>\n",
       "    <tr style=\"text-align: right;\">\n",
       "      <th></th>\n",
       "      <th>comment</th>\n",
       "      <th>情感倾向</th>\n",
       "    </tr>\n",
       "  </thead>\n",
       "  <tbody>\n",
       "    <tr>\n",
       "      <th>0</th>\n",
       "      <td>小辫儿张云雷粉丝团：张云雷希望大家在追星的同时保持理智， 台上台下要分清，不要给艺人带来困扰</td>\n",
       "      <td>1</td>\n",
       "    </tr>\n",
       "    <tr>\n",
       "      <th>1</th>\n",
       "      <td>凝雨微甜：有的时候看到一些没买到票的女孩子们站在园子外面守候着，然后酒店机场啊，一路上的都是...</td>\n",
       "      <td>0</td>\n",
       "    </tr>\n",
       "    <tr>\n",
       "      <th>2</th>\n",
       "      <td>绿山墙的猪猪：保护我方德云宝贝！</td>\n",
       "      <td>0</td>\n",
       "    </tr>\n",
       "    <tr>\n",
       "      <th>3</th>\n",
       "      <td>奥利奥和可爱多：支持请给角儿们一个安静的生活环境 多多关注作品！</td>\n",
       "      <td>1</td>\n",
       "    </tr>\n",
       "    <tr>\n",
       "      <th>4</th>\n",
       "      <td>你的明欣_：关注作品 远离生活.</td>\n",
       "      <td>1</td>\n",
       "    </tr>\n",
       "    <tr>\n",
       "      <th>5</th>\n",
       "      <td>写九万字：追星混饭圈那一套恶臭别带进相声圈 烦死了</td>\n",
       "      <td>0</td>\n",
       "    </tr>\n",
       "    <tr>\n",
       "      <th>6</th>\n",
       "      <td>一位不愿透露姓名的某bear：我爱的只有杨九郎，张云雷，孟鹤堂，周九良，张九龄，王九龙，张鹤...</td>\n",
       "      <td>0</td>\n",
       "    </tr>\n",
       "    <tr>\n",
       "      <th>7</th>\n",
       "      <td>德云社小百科：支持维权</td>\n",
       "      <td>1</td>\n",
       "    </tr>\n",
       "    <tr>\n",
       "      <th>8</th>\n",
       "      <td>我不是小姐姐是肖姐姐：我每次去剧场看演出，都是安安静静的来，安安静静的走掉，既不跟踪也不在路...</td>\n",
       "      <td>0</td>\n",
       "    </tr>\n",
       "    <tr>\n",
       "      <th>9</th>\n",
       "      <td>德云锥鹿丷：支持 佛系捧角儿 保护我家传统艺术天团</td>\n",
       "      <td>1</td>\n",
       "    </tr>\n",
       "    <tr>\n",
       "      <th>10</th>\n",
       "      <td>inspire蚍蜉：支持，就是该整治整治私生饭了</td>\n",
       "      <td>1</td>\n",
       "    </tr>\n",
       "    <tr>\n",
       "      <th>11</th>\n",
       "      <td>humhyacinth：求大家里角儿们的生活远一点，多关注作品好吗。</td>\n",
       "      <td>1</td>\n",
       "    </tr>\n",
       "    <tr>\n",
       "      <th>12</th>\n",
       "      <td>叶恃：保护我方德云社！冲鸭</td>\n",
       "      <td>0</td>\n",
       "    </tr>\n",
       "    <tr>\n",
       "      <th>13</th>\n",
       "      <td>周九良粉丝后援会：广而告之</td>\n",
       "      <td>1</td>\n",
       "    </tr>\n",
       "    <tr>\n",
       "      <th>14</th>\n",
       "      <td>张鹤伦官方后援会：做个和爱豆一样的乖宝宝～张鹤伦</td>\n",
       "      <td>1</td>\n",
       "    </tr>\n",
       "    <tr>\n",
       "      <th>15</th>\n",
       "      <td>霍子佳啊：我们爱的是台上说相声的角儿， 不要去干扰台下他们的私生活</td>\n",
       "      <td>1</td>\n",
       "    </tr>\n",
       "    <tr>\n",
       "      <th>16</th>\n",
       "      <td>7gl-顾笙er：支持！！！！</td>\n",
       "      <td>1</td>\n",
       "    </tr>\n",
       "    <tr>\n",
       "      <th>17</th>\n",
       "      <td>坑王妃：保护我方德云社艺人，从我做起。你追的是相声演员好吗？别和我们搞流量圈那一套行么？请离...</td>\n",
       "      <td>0</td>\n",
       "    </tr>\n",
       "    <tr>\n",
       "      <th>18</th>\n",
       "      <td>池上雨zls_：多关注作品，少打扰生活</td>\n",
       "      <td>1</td>\n",
       "    </tr>\n",
       "    <tr>\n",
       "      <th>19</th>\n",
       "      <td>妾身妲己：我喜欢我社，喜欢社里的老师们～我很明白，我喜欢的是孟鹤堂，是周九良，是郭麒麟，是阎...</td>\n",
       "      <td>1</td>\n",
       "    </tr>\n",
       "    <tr>\n",
       "      <th>20</th>\n",
       "      <td>希望每个人都能好开心鸭：支持！！?</td>\n",
       "      <td>1</td>\n",
       "    </tr>\n",
       "    <tr>\n",
       "      <th>21</th>\n",
       "      <td>热评狂彪三圣女茶缸子：保护我们角儿！</td>\n",
       "      <td>0</td>\n",
       "    </tr>\n",
       "    <tr>\n",
       "      <th>22</th>\n",
       "      <td>萌哒哒的逗比羞嗒嗒的开：贵社终于知道男孩子在外面要注意安全了，尤其是四百多个兼顾颜值与内涵的...</td>\n",
       "      <td>1</td>\n",
       "    </tr>\n",
       "    <tr>\n",
       "      <th>23</th>\n",
       "      <td>写账先生盘铜草帽：换轮胎的蹲机场的麻烦省省吧</td>\n",
       "      <td>0</td>\n",
       "    </tr>\n",
       "    <tr>\n",
       "      <th>24</th>\n",
       "      <td>Xback_貓爺：支持，远离生活。珍爱舞台</td>\n",
       "      <td>1</td>\n",
       "    </tr>\n",
       "    <tr>\n",
       "      <th>25</th>\n",
       "      <td>-甜栗奶盖儿：爱他们，首先请尊重他们！</td>\n",
       "      <td>0</td>\n",
       "    </tr>\n",
       "    <tr>\n",
       "      <th>26</th>\n",
       "      <td>corrupt叶曦：关注台上的他们，台下的生活少操心，不要把粉圈那一套带到相声里来</td>\n",
       "      <td>1</td>\n",
       "    </tr>\n",
       "    <tr>\n",
       "      <th>27</th>\n",
       "      <td>一凡-CMH：支持 专注作品 远离生活</td>\n",
       "      <td>1</td>\n",
       "    </tr>\n",
       "    <tr>\n",
       "      <th>28</th>\n",
       "      <td>热评狂彪三圣女二彪子：保护我方德云天团 离角们的生活远一点 只关注作品和台上好吗 别搞饭圈流...</td>\n",
       "      <td>0</td>\n",
       "    </tr>\n",
       "    <tr>\n",
       "      <th>29</th>\n",
       "      <td>紫若丨小姐姐：就应该这样！黑猫警长一会儿就上你家逮你去。</td>\n",
       "      <td>0</td>\n",
       "    </tr>\n",
       "    <tr>\n",
       "      <th>...</th>\n",
       "      <td>...</td>\n",
       "      <td>...</td>\n",
       "    </tr>\n",
       "    <tr>\n",
       "      <th>6939</th>\n",
       "      <td>秋叶菇凉：???</td>\n",
       "      <td>1</td>\n",
       "    </tr>\n",
       "    <tr>\n",
       "      <th>6940</th>\n",
       "      <td>淼喵淼淼淼淼：支持</td>\n",
       "      <td>1</td>\n",
       "    </tr>\n",
       "    <tr>\n",
       "      <th>6941</th>\n",
       "      <td>Z张大能耐：顶</td>\n",
       "      <td>1</td>\n",
       "    </tr>\n",
       "    <tr>\n",
       "      <th>6942</th>\n",
       "      <td>Willyee_a：支持</td>\n",
       "      <td>1</td>\n",
       "    </tr>\n",
       "    <tr>\n",
       "      <th>6943</th>\n",
       "      <td>筱鹤酱_：支持！</td>\n",
       "      <td>1</td>\n",
       "    </tr>\n",
       "    <tr>\n",
       "      <th>6944</th>\n",
       "      <td>美少女猪兔子_：↖(^ω^)↗</td>\n",
       "      <td>0</td>\n",
       "    </tr>\n",
       "    <tr>\n",
       "      <th>6945</th>\n",
       "      <td>养乐多可以喝：?</td>\n",
       "      <td>1</td>\n",
       "    </tr>\n",
       "    <tr>\n",
       "      <th>6946</th>\n",
       "      <td>光年年年鸭：支持</td>\n",
       "      <td>1</td>\n",
       "    </tr>\n",
       "    <tr>\n",
       "      <th>6947</th>\n",
       "      <td>放生至秦：</td>\n",
       "      <td>1</td>\n",
       "    </tr>\n",
       "    <tr>\n",
       "      <th>6948</th>\n",
       "      <td>钟艺静：干得漂亮</td>\n",
       "      <td>1</td>\n",
       "    </tr>\n",
       "    <tr>\n",
       "      <th>6949</th>\n",
       "      <td>艾尔莎不吃青椒：绝对支持！！！！</td>\n",
       "      <td>1</td>\n",
       "    </tr>\n",
       "    <tr>\n",
       "      <th>6950</th>\n",
       "      <td>晶快乐0818：做得对</td>\n",
       "      <td>1</td>\n",
       "    </tr>\n",
       "    <tr>\n",
       "      <th>6951</th>\n",
       "      <td>张云雷超好看qvq：支持</td>\n",
       "      <td>1</td>\n",
       "    </tr>\n",
       "    <tr>\n",
       "      <th>6952</th>\n",
       "      <td>冰糖葫芦患者：</td>\n",
       "      <td>0</td>\n",
       "    </tr>\n",
       "    <tr>\n",
       "      <th>6953</th>\n",
       "      <td>邪帝帝帝帝：支持！！！</td>\n",
       "      <td>1</td>\n",
       "    </tr>\n",
       "    <tr>\n",
       "      <th>6954</th>\n",
       "      <td>向量j：支持</td>\n",
       "      <td>1</td>\n",
       "    </tr>\n",
       "    <tr>\n",
       "      <th>6955</th>\n",
       "      <td>7gl-顾笙er：支持！！！！</td>\n",
       "      <td>1</td>\n",
       "    </tr>\n",
       "    <tr>\n",
       "      <th>6956</th>\n",
       "      <td>小魔仙23333：支持</td>\n",
       "      <td>1</td>\n",
       "    </tr>\n",
       "    <tr>\n",
       "      <th>6957</th>\n",
       "      <td>橘落淮南终成桔：????</td>\n",
       "      <td>0</td>\n",
       "    </tr>\n",
       "    <tr>\n",
       "      <th>6958</th>\n",
       "      <td>来根老冰棍儿咩：保护我方角儿</td>\n",
       "      <td>0</td>\n",
       "    </tr>\n",
       "    <tr>\n",
       "      <th>6959</th>\n",
       "      <td>香蕉辣个不拿拿：爱他们就要保护他们！</td>\n",
       "      <td>0</td>\n",
       "    </tr>\n",
       "    <tr>\n",
       "      <th>6960</th>\n",
       "      <td>Bongnana：支持 虽然喜欢但还是希望尊重吧</td>\n",
       "      <td>1</td>\n",
       "    </tr>\n",
       "    <tr>\n",
       "      <th>6961</th>\n",
       "      <td>迷妹韶涵：支持</td>\n",
       "      <td>1</td>\n",
       "    </tr>\n",
       "    <tr>\n",
       "      <th>6962</th>\n",
       "      <td>etihw7：！</td>\n",
       "      <td>0</td>\n",
       "    </tr>\n",
       "    <tr>\n",
       "      <th>6963</th>\n",
       "      <td>堂良的木辛Z：棒！！！</td>\n",
       "      <td>1</td>\n",
       "    </tr>\n",
       "    <tr>\n",
       "      <th>6964</th>\n",
       "      <td>一生爱二爷：??</td>\n",
       "      <td>1</td>\n",
       "    </tr>\n",
       "    <tr>\n",
       "      <th>6965</th>\n",
       "      <td>肆月廿玖日：支持</td>\n",
       "      <td>1</td>\n",
       "    </tr>\n",
       "    <tr>\n",
       "      <th>6966</th>\n",
       "      <td>懵懵的梦梦-：</td>\n",
       "      <td>0</td>\n",
       "    </tr>\n",
       "    <tr>\n",
       "      <th>6967</th>\n",
       "      <td>怪兽的炸糕：支持</td>\n",
       "      <td>1</td>\n",
       "    </tr>\n",
       "    <tr>\n",
       "      <th>6968</th>\n",
       "      <td>_你们家双皮奶这样啊：</td>\n",
       "      <td>0</td>\n",
       "    </tr>\n",
       "  </tbody>\n",
       "</table>\n",
       "<p>6969 rows × 2 columns</p>\n",
       "</div>"
      ],
      "text/plain": [
       "                                                comment  情感倾向\n",
       "0        小辫儿张云雷粉丝团：张云雷希望大家在追星的同时保持理智， 台上台下要分清，不要给艺人带来困扰     1\n",
       "1     凝雨微甜：有的时候看到一些没买到票的女孩子们站在园子外面守候着，然后酒店机场啊，一路上的都是...     0\n",
       "2                                      绿山墙的猪猪：保护我方德云宝贝！     0\n",
       "3                      奥利奥和可爱多：支持请给角儿们一个安静的生活环境 多多关注作品！     1\n",
       "4                                      你的明欣_：关注作品 远离生活.     1\n",
       "5                             写九万字：追星混饭圈那一套恶臭别带进相声圈 烦死了     0\n",
       "6     一位不愿透露姓名的某bear：我爱的只有杨九郎，张云雷，孟鹤堂，周九良，张九龄，王九龙，张鹤...     0\n",
       "7                                           德云社小百科：支持维权     1\n",
       "8     我不是小姐姐是肖姐姐：我每次去剧场看演出，都是安安静静的来，安安静静的走掉，既不跟踪也不在路...     0\n",
       "9                             德云锥鹿丷：支持 佛系捧角儿 保护我家传统艺术天团     1\n",
       "10                             inspire蚍蜉：支持，就是该整治整治私生饭了     1\n",
       "11                   humhyacinth：求大家里角儿们的生活远一点，多关注作品好吗。     1\n",
       "12                                        叶恃：保护我方德云社！冲鸭     0\n",
       "13                                        周九良粉丝后援会：广而告之     1\n",
       "14                             张鹤伦官方后援会：做个和爱豆一样的乖宝宝～张鹤伦     1\n",
       "15                    霍子佳啊：我们爱的是台上说相声的角儿， 不要去干扰台下他们的私生活     1\n",
       "16                                      7gl-顾笙er：支持！！！！     1\n",
       "17    坑王妃：保护我方德云社艺人，从我做起。你追的是相声演员好吗？别和我们搞流量圈那一套行么？请离...     0\n",
       "18                                  池上雨zls_：多关注作品，少打扰生活     1\n",
       "19    妾身妲己：我喜欢我社，喜欢社里的老师们～我很明白，我喜欢的是孟鹤堂，是周九良，是郭麒麟，是阎...     1\n",
       "20                                    希望每个人都能好开心鸭：支持！！?     1\n",
       "21                                   热评狂彪三圣女茶缸子：保护我们角儿！     0\n",
       "22    萌哒哒的逗比羞嗒嗒的开：贵社终于知道男孩子在外面要注意安全了，尤其是四百多个兼顾颜值与内涵的...     1\n",
       "23                               写账先生盘铜草帽：换轮胎的蹲机场的麻烦省省吧     0\n",
       "24                                Xback_貓爺：支持，远离生活。珍爱舞台     1\n",
       "25                                  -甜栗奶盖儿：爱他们，首先请尊重他们！     0\n",
       "26            corrupt叶曦：关注台上的他们，台下的生活少操心，不要把粉圈那一套带到相声里来     1\n",
       "27                                  一凡-CMH：支持 专注作品 远离生活     1\n",
       "28    热评狂彪三圣女二彪子：保护我方德云天团 离角们的生活远一点 只关注作品和台上好吗 别搞饭圈流...     0\n",
       "29                         紫若丨小姐姐：就应该这样！黑猫警长一会儿就上你家逮你去。     0\n",
       "...                                                 ...   ...\n",
       "6939                                           秋叶菇凉：???     1\n",
       "6940                                          淼喵淼淼淼淼：支持     1\n",
       "6941                                            Z张大能耐：顶     1\n",
       "6942                                       Willyee_a：支持     1\n",
       "6943                                           筱鹤酱_：支持！     1\n",
       "6944                                    美少女猪兔子_：↖(^ω^)↗     0\n",
       "6945                                           养乐多可以喝：?     1\n",
       "6946                                           光年年年鸭：支持     1\n",
       "6947                                              放生至秦：     1\n",
       "6948                                           钟艺静：干得漂亮     1\n",
       "6949                                   艾尔莎不吃青椒：绝对支持！！！！     1\n",
       "6950                                        晶快乐0818：做得对     1\n",
       "6951                                       张云雷超好看qvq：支持     1\n",
       "6952                                            冰糖葫芦患者：     0\n",
       "6953                                        邪帝帝帝帝：支持！！！     1\n",
       "6954                                             向量j：支持     1\n",
       "6955                                    7gl-顾笙er：支持！！！！     1\n",
       "6956                                        小魔仙23333：支持     1\n",
       "6957                                       橘落淮南终成桔：????     0\n",
       "6958                                     来根老冰棍儿咩：保护我方角儿     0\n",
       "6959                                 香蕉辣个不拿拿：爱他们就要保护他们！     0\n",
       "6960                           Bongnana：支持 虽然喜欢但还是希望尊重吧     1\n",
       "6961                                            迷妹韶涵：支持     1\n",
       "6962                                           etihw7：！     0\n",
       "6963                                        堂良的木辛Z：棒！！！     1\n",
       "6964                                           一生爱二爷：??     1\n",
       "6965                                           肆月廿玖日：支持     1\n",
       "6966                                            懵懵的梦梦-：     0\n",
       "6967                                           怪兽的炸糕：支持     1\n",
       "6968                                        _你们家双皮奶这样啊：     0\n",
       "\n",
       "[6969 rows x 2 columns]"
      ]
     },
     "execution_count": 29,
     "metadata": {},
     "output_type": "execute_result"
    }
   ],
   "source": [
    "pinglun['情感倾向'] = a_predict\n",
    "pinglu"
   ]
  },
  {
   "cell_type": "code",
   "execution_count": 30,
   "metadata": {
    "scrolled": true
   },
   "outputs": [
    {
     "data": {
      "text/plain": [
       "0.5534509972736404"
      ]
     },
     "execution_count": 30,
     "metadata": {},
     "output_type": "execute_result"
    }
   ],
   "source": [
    "pinglun['情感倾向'].mean()"
   ]
  }
 ],
 "metadata": {
  "kernelspec": {
   "display_name": "Python 3",
   "language": "python",
   "name": "python3"
  },
  "language_info": {
   "codemirror_mode": {
    "name": "ipython",
    "version": 3
   },
   "file_extension": ".py",
   "mimetype": "text/x-python",
   "name": "python",
   "nbconvert_exporter": "python",
   "pygments_lexer": "ipython3",
   "version": "3.7.1"
  }
 },
 "nbformat": 4,
 "nbformat_minor": 2
}
